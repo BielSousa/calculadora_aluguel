{
 "cells": [
  {
   "cell_type": "code",
   "execution_count": 3,
   "metadata": {},
   "outputs": [],
   "source": [
    "import requests\n",
    "import pandas as pd\n",
    "from bs4 import BeautifulSoup"
   ]
  },
  {
   "cell_type": "code",
   "execution_count": 4,
   "metadata": {},
   "outputs": [],
   "source": [
    "url = 'https://www.vivareal.com.br/aluguel/rj/rio-de-janeiro/apartamento_residencial/'"
   ]
  },
  {
   "cell_type": "code",
   "execution_count": 5,
   "metadata": {},
   "outputs": [],
   "source": [
    "paginas = [f'?pagina={i}' for i in range(2,10)]\n",
    "paginas.insert(0,'')"
   ]
  },
  {
   "cell_type": "code",
   "execution_count": 6,
   "metadata": {},
   "outputs": [],
   "source": [
    "def get_info(url):\n",
    "    response = requests.get(url).content\n",
    "    soup = BeautifulSoup(response)\n",
    "    \n",
    "    aluguel_lista = [p.text.strip() for p in \n",
    "                     soup.find_all('div', {'class':'property-card__price js-property-card-prices js-property-card__price-small'})]\n",
    "    \n",
    "    quartos_lista = [p.text.strip() for p in \n",
    "                    soup.find_all('li', {'class':'property-card__detail-item property-card__detail-room js-property-detail-rooms'})]\n",
    "\n",
    "    banheiro_lista = [p.text.strip() for p in \n",
    "                      soup.find_all('li', {'class': 'property-card__detail-item property-card__detail-bathroom js-property-detail-bathroom'})]\n",
    "\n",
    "    vaga_lista = [p.text.strip() for p in \n",
    "                  soup.find_all('li', {'class': 'property-card__detail-item property-card__detail-garage js-property-detail-garages'})]\n",
    "\n",
    "    area_lista = [p.text.strip() for p in \n",
    "                 soup.find_all('li', {'class': 'property-card__detail-item property-card__detail-area'})]\n",
    " \n",
    "    df = pd.DataFrame({\n",
    "            'aluguel': aluguel_lista,\n",
    "            'quartos': quartos_lista,\n",
    "            'banheiros':banheiro_lista,\n",
    "            'vagas':vaga_lista,\n",
    "            'area':area_lista\n",
    "        })\n",
    "    \n",
    "    return df"
   ]
  },
  {
   "cell_type": "code",
   "execution_count": 7,
   "metadata": {},
   "outputs": [],
   "source": [
    "df = pd.DataFrame([], columns=['aluguel','quartos', 'banheiros','vagas','area'])\n",
    "\n",
    "for pg in paginas:\n",
    "    df = pd.concat([df,get_info(f'{url}{pg}')])"
   ]
  },
  {
   "cell_type": "code",
   "execution_count": 8,
   "metadata": {},
   "outputs": [
    {
     "data": {
      "text/html": [
       "<div>\n",
       "<style scoped>\n",
       "    .dataframe tbody tr th:only-of-type {\n",
       "        vertical-align: middle;\n",
       "    }\n",
       "\n",
       "    .dataframe tbody tr th {\n",
       "        vertical-align: top;\n",
       "    }\n",
       "\n",
       "    .dataframe thead th {\n",
       "        text-align: right;\n",
       "    }\n",
       "</style>\n",
       "<table border=\"1\" class=\"dataframe\">\n",
       "  <thead>\n",
       "    <tr style=\"text-align: right;\">\n",
       "      <th></th>\n",
       "      <th>aluguel</th>\n",
       "      <th>quartos</th>\n",
       "      <th>banheiros</th>\n",
       "      <th>vagas</th>\n",
       "      <th>area</th>\n",
       "    </tr>\n",
       "  </thead>\n",
       "  <tbody>\n",
       "    <tr>\n",
       "      <th>0</th>\n",
       "      <td>R$ 3.900 /Mês</td>\n",
       "      <td>3   Quartos</td>\n",
       "      <td>3   Banheiros</td>\n",
       "      <td>1   Vaga</td>\n",
       "      <td>100   m²</td>\n",
       "    </tr>\n",
       "    <tr>\n",
       "      <th>1</th>\n",
       "      <td>R$ 3.200 /Mês</td>\n",
       "      <td>3   Quartos</td>\n",
       "      <td>3   Banheiros</td>\n",
       "      <td>2   Vagas</td>\n",
       "      <td>115   m²</td>\n",
       "    </tr>\n",
       "    <tr>\n",
       "      <th>2</th>\n",
       "      <td>R$ 1.550 /Mês</td>\n",
       "      <td>1   Quarto</td>\n",
       "      <td>2   Banheiros</td>\n",
       "      <td>1   Vaga</td>\n",
       "      <td>65   m²</td>\n",
       "    </tr>\n",
       "    <tr>\n",
       "      <th>3</th>\n",
       "      <td>R$ 1.500 /Mês</td>\n",
       "      <td>1   Quarto</td>\n",
       "      <td>2   Banheiros</td>\n",
       "      <td>--   Vaga</td>\n",
       "      <td>45   m²</td>\n",
       "    </tr>\n",
       "    <tr>\n",
       "      <th>4</th>\n",
       "      <td>R$ 2.800 /Mês</td>\n",
       "      <td>3   Quartos</td>\n",
       "      <td>3   Banheiros</td>\n",
       "      <td>2   Vagas</td>\n",
       "      <td>120   m²</td>\n",
       "    </tr>\n",
       "  </tbody>\n",
       "</table>\n",
       "</div>"
      ],
      "text/plain": [
       "         aluguel      quartos      banheiros      vagas      area\n",
       "0  R$ 3.900 /Mês  3   Quartos  3   Banheiros   1   Vaga  100   m²\n",
       "1  R$ 3.200 /Mês  3   Quartos  3   Banheiros  2   Vagas  115   m²\n",
       "2  R$ 1.550 /Mês   1   Quarto  2   Banheiros   1   Vaga   65   m²\n",
       "3  R$ 1.500 /Mês   1   Quarto  2   Banheiros  --   Vaga   45   m²\n",
       "4  R$ 2.800 /Mês  3   Quartos  3   Banheiros  2   Vagas  120   m²"
      ]
     },
     "execution_count": 8,
     "metadata": {},
     "output_type": "execute_result"
    }
   ],
   "source": [
    "df.head()"
   ]
  },
  {
   "cell_type": "code",
   "execution_count": 9,
   "metadata": {},
   "outputs": [
    {
     "data": {
      "text/plain": [
       "(324, 5)"
      ]
     },
     "execution_count": 9,
     "metadata": {},
     "output_type": "execute_result"
    }
   ],
   "source": [
    "df.shape"
   ]
  },
  {
   "cell_type": "code",
   "execution_count": 10,
   "metadata": {},
   "outputs": [],
   "source": [
    "df = df.drop_duplicates(subset=['aluguel','quartos','banheiros','vagas','area'], keep='first')"
   ]
  },
  {
   "cell_type": "code",
   "execution_count": 12,
   "metadata": {},
   "outputs": [
    {
     "data": {
      "text/plain": [
       "(36, 5)"
      ]
     },
     "execution_count": 12,
     "metadata": {},
     "output_type": "execute_result"
    }
   ],
   "source": [
    "df.shape"
   ]
  },
  {
   "cell_type": "code",
   "execution_count": 13,
   "metadata": {},
   "outputs": [],
   "source": [
    "df.to_excel('calculadora.xlsx')"
   ]
  }
 ],
 "metadata": {
  "kernelspec": {
   "display_name": "Python 3",
   "language": "python",
   "name": "python3"
  },
  "language_info": {
   "codemirror_mode": {
    "name": "ipython",
    "version": 3
   },
   "file_extension": ".py",
   "mimetype": "text/x-python",
   "name": "python",
   "nbconvert_exporter": "python",
   "pygments_lexer": "ipython3",
   "version": "3.8.5"
  }
 },
 "nbformat": 4,
 "nbformat_minor": 4
}
